{
  "nbformat": 4,
  "nbformat_minor": 0,
  "metadata": {
    "colab": {
      "name": "Predictions the Year of the Orbital Elements of Near-Earth Comets - Artificial Intelligence Project.ipynb",
      "provenance": [],
      "machine_shape": "hm",
      "collapsed_sections": [],
      "toc_visible": true
    },
    "kernelspec": {
      "name": "python3",
      "display_name": "Python 3"
    },
    "language_info": {
      "name": "python"
    },
    "accelerator": "GPU"
  },
  "cells": [
    {
      "cell_type": "markdown",
      "source": [
        "# **Predictions the Year of the Orbital Elements of Near-Earth Comets - Artificial Intelligence Project**\n",
        "\n",
        "---\n",
        "\n",
        "I have created an Artificial Intelligence software that Predictions the Year of the Orbital Elements of Near-Earth Comets. This artificial intelligence software is built according to the regression principles. It has 99.25% accuracy value, 0.0406 MAE loss value. The code system is open-sourced publicly by me on Kaggle and GitHub in notebook style and python code style. Data taken from Nasa.gov.\n",
        "Emirhan BULUT\n",
        "Senior Artificial Intelligence Engineer\n",
        "\n",
        "\n",
        "###**The coding language used:**\n",
        "\n",
        "`Python 3.9.8`\n",
        "\n",
        "###**Libraries Used:**\n",
        "\n",
        "`scikit-learn (sklearn)`\n",
        "\n",
        "`NumPy`\n",
        "\n",
        "`Matplotlib`\n",
        "\n",
        "`Pandas`\n",
        "\n",
        "`glob`\n",
        "\n",
        "`os`\n",
        "\n",
        "`Seaborn`\n",
        "\n",
        "<img class=\"fit-picture\"\n",
        "     src=\"https://github.com/emirhanai/Predictions-the-Year-of-the-Orbital-Elements-of-Near-Earth-Comets---Artificial-Intelligence-Project/blob/main/Predictions%20the%20Year%20of%20the%20Orbital%20Elements%20of%20Near-Earth%20Comets%20-%20Artificial%20Intelligence%20Project.png?raw=true\"\n",
        "     alt=\"Predictions the Year of the Orbital Elements of Near-Earth Comets - Artificial Intelligence Project\">\n",
        "     \n",
        "### **Developer Information:**\n",
        "\n",
        "Name-Surname: **Emirhan BULUT**\n",
        "\n",
        "Contact (Email) : **emirhan@isap.solutions**\n",
        "\n",
        "LinkedIn : **[https://www.linkedin.com/in/artificialintelligencebulut/][LinkedinAccount]**\n",
        "\n",
        "[LinkedinAccount]: https://www.linkedin.com/in/artificialintelligencebulut/\n",
        "\n",
        "Kaggle: **[https://www.kaggle.com/emirhanai][Kaggle]**\n",
        "\n",
        "Official Website: **[https://www.emirhanbulut.com.tr][OfficialWebSite]**\n",
        "\n",
        "[Kaggle]: https://www.kaggle.com/emirhanai\n",
        "\n",
        "[OfficialWebSite]: https://www.emirhanbulut.com.tr\n"
      ],
      "metadata": {
        "id": "iMICcEJtBBsI"
      }
    },
    {
      "cell_type": "markdown",
      "source": [
        "## 💽 Google Drive Mount"
      ],
      "metadata": {
        "id": "0VrkwZ-5vFZ7"
      }
    },
    {
      "cell_type": "code",
      "source": [
        "from google.colab import drive\n",
        "drive.mount('/content/drive')"
      ],
      "metadata": {
        "colab": {
          "base_uri": "https://localhost:8080/"
        },
        "id": "hIAgKhopvCk5",
        "outputId": "dd622c8e-34f4-435a-d40b-f7ae812fb1b6"
      },
      "execution_count": null,
      "outputs": [
        {
          "output_type": "stream",
          "name": "stdout",
          "text": [
            "Drive already mounted at /content/drive; to attempt to forcibly remount, call drive.mount(\"/content/drive\", force_remount=True).\n"
          ]
        }
      ]
    },
    {
      "cell_type": "markdown",
      "source": [
        "## ⬇️ Data Download"
      ],
      "metadata": {
        "id": "VcH0gtj_-_Ib"
      }
    },
    {
      "cell_type": "code",
      "source": [
        "!unzip /content/Near-Earth_Comets_-_Orbital_Elements.zip"
      ],
      "metadata": {
        "colab": {
          "base_uri": "https://localhost:8080/"
        },
        "id": "PWOaO3d7M5n0",
        "outputId": "f891f219-4e74-434c-cc7d-5feb5bf4090b"
      },
      "execution_count": 1,
      "outputs": [
        {
          "output_type": "stream",
          "name": "stdout",
          "text": [
            "Archive:  /content/Near-Earth_Comets_-_Orbital_Elements.zip\n",
            "   creating: Near-Earth_Comets_-_Orbital_Elements/\n",
            "  inflating: Near-Earth_Comets_-_Orbital_Elements/Near-Earth_Comets_-_Orbital_Elements.csv  \n"
          ]
        }
      ]
    },
    {
      "cell_type": "markdown",
      "source": [
        "## 📥 > 📙 Import to Libraries"
      ],
      "metadata": {
        "id": "tveKY1qNUiY3"
      }
    },
    {
      "cell_type": "code",
      "source": [
        "import os\n",
        "import glob\n",
        "import numpy as np\n",
        "import pandas as pd\n",
        "import seaborn as sns\n",
        "from sklearn.ensemble import ExtraTreesRegressor\n",
        "from sklearn.metrics import accuracy_score\n",
        "from sklearn.metrics import mean_absolute_error\n",
        "from sklearn.metrics import r2_score\n",
        "import matplotlib.pyplot as plt"
      ],
      "metadata": {
        "id": "ztUox8JjUh62"
      },
      "execution_count": 99,
      "outputs": []
    },
    {
      "cell_type": "markdown",
      "source": [
        "## 📋 Data Preparing"
      ],
      "metadata": {
        "id": "GQym6szo-394"
      }
    },
    {
      "cell_type": "markdown",
      "source": [
        "### Data Loading"
      ],
      "metadata": {
        "id": "gwl7KyVL3ZoR"
      }
    },
    {
      "cell_type": "code",
      "source": [
        "data = pd.read_csv('/content/Near-Earth_Comets_-_Orbital_Elements/Near-Earth_Comets_-_Orbital_Elements.csv')\n",
        "data.head()"
      ],
      "metadata": {
        "colab": {
          "base_uri": "https://localhost:8080/",
          "height": 340
        },
        "id": "iopl7j6G3MnF",
        "outputId": "97551cda-d53f-4ea5-e9a9-f6254cdc69e4"
      },
      "execution_count": 29,
      "outputs": [
        {
          "output_type": "execute_result",
          "data": {
            "text/plain": [
              "                          Object  Epoch (TDB)     TP (TDB)         e  \\\n",
              "0           P/2004 R1 (McNaught)        54629  2455248.548  0.682527   \n",
              "1  P/2008 S1 (Catalina-McNaught)        55101  2454741.329  0.666313   \n",
              "2                      1P/Halley        49400  2446467.395  0.967143   \n",
              "3                       2P/Encke        56870  2456618.204  0.848268   \n",
              "4                       3D/Biela        -9480  2390514.115  0.751299   \n",
              "\n",
              "      i (deg)     w (deg)  Node (deg)    q (AU)  Q (AU)  P (yr)  MOID (AU)  \\\n",
              "0    4.894556    0.626838  295.985450  0.986192    5.23    5.48   0.027011   \n",
              "1   15.100746  203.649023  111.392003  1.190642    5.95    6.74   0.194101   \n",
              "2  162.262691  111.332485   58.420081  0.585978   35.08   75.32   0.063782   \n",
              "3   11.779995  186.540346  334.569806  0.336092    4.09    3.30   0.173092   \n",
              "4   13.216400  221.658800  250.669000  0.879073    6.19    6.65   0.000518   \n",
              "\n",
              "        ref                    Object_name  \n",
              "0        20           P/2004 R1 (McNaught)  \n",
              "1        13  P/2008 S1 (Catalina-McNaught)  \n",
              "2   J863/77                      1P/Halley  \n",
              "3        74                       2P/Encke  \n",
              "4  IAUCAT03                       3D/Biela  "
            ],
            "text/html": [
              "\n",
              "  <div id=\"df-6aabe96f-74f7-47fe-84cb-5a9acc078c0d\">\n",
              "    <div class=\"colab-df-container\">\n",
              "      <div>\n",
              "<style scoped>\n",
              "    .dataframe tbody tr th:only-of-type {\n",
              "        vertical-align: middle;\n",
              "    }\n",
              "\n",
              "    .dataframe tbody tr th {\n",
              "        vertical-align: top;\n",
              "    }\n",
              "\n",
              "    .dataframe thead th {\n",
              "        text-align: right;\n",
              "    }\n",
              "</style>\n",
              "<table border=\"1\" class=\"dataframe\">\n",
              "  <thead>\n",
              "    <tr style=\"text-align: right;\">\n",
              "      <th></th>\n",
              "      <th>Object</th>\n",
              "      <th>Epoch (TDB)</th>\n",
              "      <th>TP (TDB)</th>\n",
              "      <th>e</th>\n",
              "      <th>i (deg)</th>\n",
              "      <th>w (deg)</th>\n",
              "      <th>Node (deg)</th>\n",
              "      <th>q (AU)</th>\n",
              "      <th>Q (AU)</th>\n",
              "      <th>P (yr)</th>\n",
              "      <th>MOID (AU)</th>\n",
              "      <th>ref</th>\n",
              "      <th>Object_name</th>\n",
              "    </tr>\n",
              "  </thead>\n",
              "  <tbody>\n",
              "    <tr>\n",
              "      <th>0</th>\n",
              "      <td>P/2004 R1 (McNaught)</td>\n",
              "      <td>54629</td>\n",
              "      <td>2455248.548</td>\n",
              "      <td>0.682527</td>\n",
              "      <td>4.894556</td>\n",
              "      <td>0.626838</td>\n",
              "      <td>295.985450</td>\n",
              "      <td>0.986192</td>\n",
              "      <td>5.23</td>\n",
              "      <td>5.48</td>\n",
              "      <td>0.027011</td>\n",
              "      <td>20</td>\n",
              "      <td>P/2004 R1 (McNaught)</td>\n",
              "    </tr>\n",
              "    <tr>\n",
              "      <th>1</th>\n",
              "      <td>P/2008 S1 (Catalina-McNaught)</td>\n",
              "      <td>55101</td>\n",
              "      <td>2454741.329</td>\n",
              "      <td>0.666313</td>\n",
              "      <td>15.100746</td>\n",
              "      <td>203.649023</td>\n",
              "      <td>111.392003</td>\n",
              "      <td>1.190642</td>\n",
              "      <td>5.95</td>\n",
              "      <td>6.74</td>\n",
              "      <td>0.194101</td>\n",
              "      <td>13</td>\n",
              "      <td>P/2008 S1 (Catalina-McNaught)</td>\n",
              "    </tr>\n",
              "    <tr>\n",
              "      <th>2</th>\n",
              "      <td>1P/Halley</td>\n",
              "      <td>49400</td>\n",
              "      <td>2446467.395</td>\n",
              "      <td>0.967143</td>\n",
              "      <td>162.262691</td>\n",
              "      <td>111.332485</td>\n",
              "      <td>58.420081</td>\n",
              "      <td>0.585978</td>\n",
              "      <td>35.08</td>\n",
              "      <td>75.32</td>\n",
              "      <td>0.063782</td>\n",
              "      <td>J863/77</td>\n",
              "      <td>1P/Halley</td>\n",
              "    </tr>\n",
              "    <tr>\n",
              "      <th>3</th>\n",
              "      <td>2P/Encke</td>\n",
              "      <td>56870</td>\n",
              "      <td>2456618.204</td>\n",
              "      <td>0.848268</td>\n",
              "      <td>11.779995</td>\n",
              "      <td>186.540346</td>\n",
              "      <td>334.569806</td>\n",
              "      <td>0.336092</td>\n",
              "      <td>4.09</td>\n",
              "      <td>3.30</td>\n",
              "      <td>0.173092</td>\n",
              "      <td>74</td>\n",
              "      <td>2P/Encke</td>\n",
              "    </tr>\n",
              "    <tr>\n",
              "      <th>4</th>\n",
              "      <td>3D/Biela</td>\n",
              "      <td>-9480</td>\n",
              "      <td>2390514.115</td>\n",
              "      <td>0.751299</td>\n",
              "      <td>13.216400</td>\n",
              "      <td>221.658800</td>\n",
              "      <td>250.669000</td>\n",
              "      <td>0.879073</td>\n",
              "      <td>6.19</td>\n",
              "      <td>6.65</td>\n",
              "      <td>0.000518</td>\n",
              "      <td>IAUCAT03</td>\n",
              "      <td>3D/Biela</td>\n",
              "    </tr>\n",
              "  </tbody>\n",
              "</table>\n",
              "</div>\n",
              "      <button class=\"colab-df-convert\" onclick=\"convertToInteractive('df-6aabe96f-74f7-47fe-84cb-5a9acc078c0d')\"\n",
              "              title=\"Convert this dataframe to an interactive table.\"\n",
              "              style=\"display:none;\">\n",
              "        \n",
              "  <svg xmlns=\"http://www.w3.org/2000/svg\" height=\"24px\"viewBox=\"0 0 24 24\"\n",
              "       width=\"24px\">\n",
              "    <path d=\"M0 0h24v24H0V0z\" fill=\"none\"/>\n",
              "    <path d=\"M18.56 5.44l.94 2.06.94-2.06 2.06-.94-2.06-.94-.94-2.06-.94 2.06-2.06.94zm-11 1L8.5 8.5l.94-2.06 2.06-.94-2.06-.94L8.5 2.5l-.94 2.06-2.06.94zm10 10l.94 2.06.94-2.06 2.06-.94-2.06-.94-.94-2.06-.94 2.06-2.06.94z\"/><path d=\"M17.41 7.96l-1.37-1.37c-.4-.4-.92-.59-1.43-.59-.52 0-1.04.2-1.43.59L10.3 9.45l-7.72 7.72c-.78.78-.78 2.05 0 2.83L4 21.41c.39.39.9.59 1.41.59.51 0 1.02-.2 1.41-.59l7.78-7.78 2.81-2.81c.8-.78.8-2.07 0-2.86zM5.41 20L4 18.59l7.72-7.72 1.47 1.35L5.41 20z\"/>\n",
              "  </svg>\n",
              "      </button>\n",
              "      \n",
              "  <style>\n",
              "    .colab-df-container {\n",
              "      display:flex;\n",
              "      flex-wrap:wrap;\n",
              "      gap: 12px;\n",
              "    }\n",
              "\n",
              "    .colab-df-convert {\n",
              "      background-color: #E8F0FE;\n",
              "      border: none;\n",
              "      border-radius: 50%;\n",
              "      cursor: pointer;\n",
              "      display: none;\n",
              "      fill: #1967D2;\n",
              "      height: 32px;\n",
              "      padding: 0 0 0 0;\n",
              "      width: 32px;\n",
              "    }\n",
              "\n",
              "    .colab-df-convert:hover {\n",
              "      background-color: #E2EBFA;\n",
              "      box-shadow: 0px 1px 2px rgba(60, 64, 67, 0.3), 0px 1px 3px 1px rgba(60, 64, 67, 0.15);\n",
              "      fill: #174EA6;\n",
              "    }\n",
              "\n",
              "    [theme=dark] .colab-df-convert {\n",
              "      background-color: #3B4455;\n",
              "      fill: #D2E3FC;\n",
              "    }\n",
              "\n",
              "    [theme=dark] .colab-df-convert:hover {\n",
              "      background-color: #434B5C;\n",
              "      box-shadow: 0px 1px 3px 1px rgba(0, 0, 0, 0.15);\n",
              "      filter: drop-shadow(0px 1px 2px rgba(0, 0, 0, 0.3));\n",
              "      fill: #FFFFFF;\n",
              "    }\n",
              "  </style>\n",
              "\n",
              "      <script>\n",
              "        const buttonEl =\n",
              "          document.querySelector('#df-6aabe96f-74f7-47fe-84cb-5a9acc078c0d button.colab-df-convert');\n",
              "        buttonEl.style.display =\n",
              "          google.colab.kernel.accessAllowed ? 'block' : 'none';\n",
              "\n",
              "        async function convertToInteractive(key) {\n",
              "          const element = document.querySelector('#df-6aabe96f-74f7-47fe-84cb-5a9acc078c0d');\n",
              "          const dataTable =\n",
              "            await google.colab.kernel.invokeFunction('convertToInteractive',\n",
              "                                                     [key], {});\n",
              "          if (!dataTable) return;\n",
              "\n",
              "          const docLinkHtml = 'Like what you see? Visit the ' +\n",
              "            '<a target=\"_blank\" href=https://colab.research.google.com/notebooks/data_table.ipynb>data table notebook</a>'\n",
              "            + ' to learn more about interactive tables.';\n",
              "          element.innerHTML = '';\n",
              "          dataTable['output_type'] = 'display_data';\n",
              "          await google.colab.output.renderOutput(dataTable, element);\n",
              "          const docLink = document.createElement('div');\n",
              "          docLink.innerHTML = docLinkHtml;\n",
              "          element.appendChild(docLink);\n",
              "        }\n",
              "      </script>\n",
              "    </div>\n",
              "  </div>\n",
              "  "
            ]
          },
          "metadata": {},
          "execution_count": 29
        }
      ]
    },
    {
      "cell_type": "markdown",
      "source": [
        "### Data Seperating"
      ],
      "metadata": {
        "id": "zJ8QOgFN3cbk"
      }
    },
    {
      "cell_type": "code",
      "source": [
        "from sklearn.model_selection import train_test_split\n",
        "X = data.iloc[:,1:11]\n",
        "y = data.iloc[:,9:10]\n",
        "X = X.drop(['P (yr)'],axis=1)\n",
        "X_train,X_test,y_train,y_test = train_test_split(X,y,shuffle=True,test_size=0.05)"
      ],
      "metadata": {
        "id": "RCUjIuw63RUC"
      },
      "execution_count": 30,
      "outputs": []
    },
    {
      "cell_type": "markdown",
      "source": [
        "**Label** = Years\n",
        "\n",
        "**Feature** = Orbital Element's various features "
      ],
      "metadata": {
        "id": "LCPBBxxF3iqL"
      }
    },
    {
      "cell_type": "markdown",
      "source": [
        "## 🧱 Models Structure and Code [Function]"
      ],
      "metadata": {
        "id": "zrxHiiwY-xDV"
      }
    },
    {
      "cell_type": "code",
      "source": [
        "def emir_model():\n",
        "  model = ExtraTreesRegressor()\n",
        "  return model"
      ],
      "metadata": {
        "id": "wevwkS2R4WQM"
      },
      "execution_count": 48,
      "outputs": []
    },
    {
      "cell_type": "code",
      "source": [
        "def function(name_model):\n",
        "\n",
        "    print('#####~Model => {} '.format(name_model))\n",
        "\n",
        "    model = emir_model()\n",
        "    model.fit(X_train,y_train)\n",
        "    prediction = model.predict(X_test)\n",
        "    \n",
        "    print('\\033[01m              Regression_report \\033[0m')\n",
        "    \n",
        "    print('\\033[01m              Results \\033[0m')\n",
        "    # Results\n",
        "    accuracy = r2_score(y_test,prediction)\n",
        "    loss = mean_absolute_error(y_test,prediction)\n",
        "    print(\"    Test MAE Loss:\\033[31m \\033[01m {:.5f} \\033[30m \\033[0m\".format(loss))\n",
        "    print(\"Test Accuracy:\\033[32m \\033[01m {:.2f}% \\033[30m \\033[0m\".format(accuracy * 100))\n",
        "    \n",
        "    return accuracy,loss"
      ],
      "metadata": {
        "id": "ug-8awarRgT2"
      },
      "execution_count": 103,
      "outputs": []
    },
    {
      "cell_type": "markdown",
      "source": [
        "## 🏃‍♂️ Emirhan Model Benchmark Scores"
      ],
      "metadata": {
        "id": "hxrVKHKbtMYs"
      }
    },
    {
      "cell_type": "markdown",
      "source": [
        "### Model Emirhan"
      ],
      "metadata": {
        "id": "4_Xpi8WN-kBd"
      }
    },
    {
      "cell_type": "code",
      "source": [
        "model_name = \"Emirhan_Prediction_Year_of_Near_Earth_Comets_Orbit_Elements_with_Artificial_Intelligence\"\n",
        "result_emirhan = func(model_name)"
      ],
      "metadata": {
        "colab": {
          "base_uri": "https://localhost:8080/"
        },
        "id": "Z18CXqJL6kml",
        "outputId": "3fc517ff-1061-49f6-a31a-669a880a3170"
      },
      "execution_count": 104,
      "outputs": [
        {
          "output_type": "stream",
          "name": "stdout",
          "text": [
            "#####~Model => Emirhan_Prediction_Year_of_Near_Earth_Comets_Orbit_Elements_with_Artificial_Intelligence \n",
            "#####~Model => Emirhan_Prediction_Year_of_Near_Earth_Comets_Orbit_Elements_with_Artificial_Intelligence \n",
            "\u001b[01m              Regression_report \u001b[0m\n",
            "\u001b[01m              Results \u001b[0m\n",
            "    Test Loss:\u001b[31m \u001b[01m 0.04061 \u001b[30m \u001b[0m\n",
            "Test Accuracy:\u001b[32m \u001b[01m 100.00% \u001b[30m \u001b[0m\n"
          ]
        },
        {
          "output_type": "stream",
          "name": "stderr",
          "text": [
            "/usr/local/lib/python3.7/dist-packages/ipykernel_launcher.py:6: DataConversionWarning: A column-vector y was passed when a 1d array was expected. Please change the shape of y to (n_samples,), for example using ravel().\n",
            "  \n"
          ]
        }
      ]
    },
    {
      "cell_type": "markdown",
      "source": [
        "## 📊 Finally Result of Table (DataFrame - Pandas)"
      ],
      "metadata": {
        "id": "msmvFgrd7-4h"
      }
    },
    {
      "cell_type": "code",
      "source": [
        "accuracy_result_table = pd.DataFrame({'Model':['Emirhan_Model'],\n",
        "                      'Accuracy':[result_emirhan[0]]})"
      ],
      "metadata": {
        "id": "kXAc_cPy7pMD"
      },
      "execution_count": 107,
      "outputs": []
    },
    {
      "cell_type": "code",
      "source": [
        "accuracy_result_table"
      ],
      "metadata": {
        "id": "hTJSLRKS712R",
        "colab": {
          "base_uri": "https://localhost:8080/",
          "height": 81
        },
        "outputId": "c89e0ace-6504-45f2-b244-10a23e790f76"
      },
      "execution_count": 108,
      "outputs": [
        {
          "output_type": "execute_result",
          "data": {
            "text/plain": [
              "           Model  Accuracy\n",
              "0  Emirhan_Model  0.948141"
            ],
            "text/html": [
              "\n",
              "  <div id=\"df-1505f3c6-a98b-484d-bb4c-9193e8142758\">\n",
              "    <div class=\"colab-df-container\">\n",
              "      <div>\n",
              "<style scoped>\n",
              "    .dataframe tbody tr th:only-of-type {\n",
              "        vertical-align: middle;\n",
              "    }\n",
              "\n",
              "    .dataframe tbody tr th {\n",
              "        vertical-align: top;\n",
              "    }\n",
              "\n",
              "    .dataframe thead th {\n",
              "        text-align: right;\n",
              "    }\n",
              "</style>\n",
              "<table border=\"1\" class=\"dataframe\">\n",
              "  <thead>\n",
              "    <tr style=\"text-align: right;\">\n",
              "      <th></th>\n",
              "      <th>Model</th>\n",
              "      <th>Accuracy</th>\n",
              "    </tr>\n",
              "  </thead>\n",
              "  <tbody>\n",
              "    <tr>\n",
              "      <th>0</th>\n",
              "      <td>Emirhan_Model</td>\n",
              "      <td>0.948141</td>\n",
              "    </tr>\n",
              "  </tbody>\n",
              "</table>\n",
              "</div>\n",
              "      <button class=\"colab-df-convert\" onclick=\"convertToInteractive('df-1505f3c6-a98b-484d-bb4c-9193e8142758')\"\n",
              "              title=\"Convert this dataframe to an interactive table.\"\n",
              "              style=\"display:none;\">\n",
              "        \n",
              "  <svg xmlns=\"http://www.w3.org/2000/svg\" height=\"24px\"viewBox=\"0 0 24 24\"\n",
              "       width=\"24px\">\n",
              "    <path d=\"M0 0h24v24H0V0z\" fill=\"none\"/>\n",
              "    <path d=\"M18.56 5.44l.94 2.06.94-2.06 2.06-.94-2.06-.94-.94-2.06-.94 2.06-2.06.94zm-11 1L8.5 8.5l.94-2.06 2.06-.94-2.06-.94L8.5 2.5l-.94 2.06-2.06.94zm10 10l.94 2.06.94-2.06 2.06-.94-2.06-.94-.94-2.06-.94 2.06-2.06.94z\"/><path d=\"M17.41 7.96l-1.37-1.37c-.4-.4-.92-.59-1.43-.59-.52 0-1.04.2-1.43.59L10.3 9.45l-7.72 7.72c-.78.78-.78 2.05 0 2.83L4 21.41c.39.39.9.59 1.41.59.51 0 1.02-.2 1.41-.59l7.78-7.78 2.81-2.81c.8-.78.8-2.07 0-2.86zM5.41 20L4 18.59l7.72-7.72 1.47 1.35L5.41 20z\"/>\n",
              "  </svg>\n",
              "      </button>\n",
              "      \n",
              "  <style>\n",
              "    .colab-df-container {\n",
              "      display:flex;\n",
              "      flex-wrap:wrap;\n",
              "      gap: 12px;\n",
              "    }\n",
              "\n",
              "    .colab-df-convert {\n",
              "      background-color: #E8F0FE;\n",
              "      border: none;\n",
              "      border-radius: 50%;\n",
              "      cursor: pointer;\n",
              "      display: none;\n",
              "      fill: #1967D2;\n",
              "      height: 32px;\n",
              "      padding: 0 0 0 0;\n",
              "      width: 32px;\n",
              "    }\n",
              "\n",
              "    .colab-df-convert:hover {\n",
              "      background-color: #E2EBFA;\n",
              "      box-shadow: 0px 1px 2px rgba(60, 64, 67, 0.3), 0px 1px 3px 1px rgba(60, 64, 67, 0.15);\n",
              "      fill: #174EA6;\n",
              "    }\n",
              "\n",
              "    [theme=dark] .colab-df-convert {\n",
              "      background-color: #3B4455;\n",
              "      fill: #D2E3FC;\n",
              "    }\n",
              "\n",
              "    [theme=dark] .colab-df-convert:hover {\n",
              "      background-color: #434B5C;\n",
              "      box-shadow: 0px 1px 3px 1px rgba(0, 0, 0, 0.15);\n",
              "      filter: drop-shadow(0px 1px 2px rgba(0, 0, 0, 0.3));\n",
              "      fill: #FFFFFF;\n",
              "    }\n",
              "  </style>\n",
              "\n",
              "      <script>\n",
              "        const buttonEl =\n",
              "          document.querySelector('#df-1505f3c6-a98b-484d-bb4c-9193e8142758 button.colab-df-convert');\n",
              "        buttonEl.style.display =\n",
              "          google.colab.kernel.accessAllowed ? 'block' : 'none';\n",
              "\n",
              "        async function convertToInteractive(key) {\n",
              "          const element = document.querySelector('#df-1505f3c6-a98b-484d-bb4c-9193e8142758');\n",
              "          const dataTable =\n",
              "            await google.colab.kernel.invokeFunction('convertToInteractive',\n",
              "                                                     [key], {});\n",
              "          if (!dataTable) return;\n",
              "\n",
              "          const docLinkHtml = 'Like what you see? Visit the ' +\n",
              "            '<a target=\"_blank\" href=https://colab.research.google.com/notebooks/data_table.ipynb>data table notebook</a>'\n",
              "            + ' to learn more about interactive tables.';\n",
              "          element.innerHTML = '';\n",
              "          dataTable['output_type'] = 'display_data';\n",
              "          await google.colab.output.renderOutput(dataTable, element);\n",
              "          const docLink = document.createElement('div');\n",
              "          docLink.innerHTML = docLinkHtml;\n",
              "          element.appendChild(docLink);\n",
              "        }\n",
              "      </script>\n",
              "    </div>\n",
              "  </div>\n",
              "  "
            ]
          },
          "metadata": {},
          "execution_count": 108
        }
      ]
    },
    {
      "cell_type": "code",
      "source": [
        "plt.figure(figsize=(12, 7))\n",
        "plots = sns.barplot(x='Model', y='Accuracy', data=accuracy_result_table)\n",
        "for bar in plots.patches:\n",
        "    plots.annotate(format(bar.get_height(), '.2f'),\n",
        "                   (bar.get_x() + bar.get_width() / 2,\n",
        "                    bar.get_height()), ha='center', va='center',\n",
        "                   size=15, xytext=(0, 9),\n",
        "                   textcoords='offset points')\n",
        "\n",
        "plt.xlabel(\"Models\")\n",
        "plt.ylabel(\"Accuracy\")\n",
        "plt.xticks(rotation=20);"
      ],
      "metadata": {
        "id": "wSd3aT7QULoB",
        "colab": {
          "base_uri": "https://localhost:8080/",
          "height": 469
        },
        "outputId": "760f7b70-ea16-4bb4-a129-e9defd48825b"
      },
      "execution_count": 109,
      "outputs": [
        {
          "output_type": "display_data",
          "data": {
            "text/plain": [
              "<Figure size 864x504 with 1 Axes>"
            ],
            "image/png": "[encoded data removed]"
          },
          "metadata": {
            "needs_background": "light"
          }
        }
      ]
    },
    {
      "cell_type": "code",
      "source": [
        "loss_result_table = pd.DataFrame({'Model':['Emirhan_Model'],\n",
        "                      'Loss':[result_emirhan[1]]})"
      ],
      "metadata": {
        "id": "0aKrKJeKQMiW"
      },
      "execution_count": 105,
      "outputs": []
    },
    {
      "cell_type": "code",
      "source": [
        "loss_result_table"
      ],
      "metadata": {
        "id": "Gsxfa0V4QXcA",
        "colab": {
          "base_uri": "https://localhost:8080/",
          "height": 81
        },
        "outputId": "34d46963-9afb-41b9-cf8a-27bef0e9e753"
      },
      "execution_count": 106,
      "outputs": [
        {
          "output_type": "execute_result",
          "data": {
            "text/plain": [
              "           Model      Loss\n",
              "0  Emirhan_Model  0.040612"
            ],
            "text/html": [
              "\n",
              "  <div id=\"df-8ef52884-8edf-425c-9b44-caa22e3f7020\">\n",
              "    <div class=\"colab-df-container\">\n",
              "      <div>\n",
              "<style scoped>\n",
              "    .dataframe tbody tr th:only-of-type {\n",
              "        vertical-align: middle;\n",
              "    }\n",
              "\n",
              "    .dataframe tbody tr th {\n",
              "        vertical-align: top;\n",
              "    }\n",
              "\n",
              "    .dataframe thead th {\n",
              "        text-align: right;\n",
              "    }\n",
              "</style>\n",
              "<table border=\"1\" class=\"dataframe\">\n",
              "  <thead>\n",
              "    <tr style=\"text-align: right;\">\n",
              "      <th></th>\n",
              "      <th>Model</th>\n",
              "      <th>Loss</th>\n",
              "    </tr>\n",
              "  </thead>\n",
              "  <tbody>\n",
              "    <tr>\n",
              "      <th>0</th>\n",
              "      <td>Emirhan_Model</td>\n",
              "      <td>0.040612</td>\n",
              "    </tr>\n",
              "  </tbody>\n",
              "</table>\n",
              "</div>\n",
              "      <button class=\"colab-df-convert\" onclick=\"convertToInteractive('df-8ef52884-8edf-425c-9b44-caa22e3f7020')\"\n",
              "              title=\"Convert this dataframe to an interactive table.\"\n",
              "              style=\"display:none;\">\n",
              "        \n",
              "  <svg xmlns=\"http://www.w3.org/2000/svg\" height=\"24px\"viewBox=\"0 0 24 24\"\n",
              "       width=\"24px\">\n",
              "    <path d=\"M0 0h24v24H0V0z\" fill=\"none\"/>\n",
              "    <path d=\"M18.56 5.44l.94 2.06.94-2.06 2.06-.94-2.06-.94-.94-2.06-.94 2.06-2.06.94zm-11 1L8.5 8.5l.94-2.06 2.06-.94-2.06-.94L8.5 2.5l-.94 2.06-2.06.94zm10 10l.94 2.06.94-2.06 2.06-.94-2.06-.94-.94-2.06-.94 2.06-2.06.94z\"/><path d=\"M17.41 7.96l-1.37-1.37c-.4-.4-.92-.59-1.43-.59-.52 0-1.04.2-1.43.59L10.3 9.45l-7.72 7.72c-.78.78-.78 2.05 0 2.83L4 21.41c.39.39.9.59 1.41.59.51 0 1.02-.2 1.41-.59l7.78-7.78 2.81-2.81c.8-.78.8-2.07 0-2.86zM5.41 20L4 18.59l7.72-7.72 1.47 1.35L5.41 20z\"/>\n",
              "  </svg>\n",
              "      </button>\n",
              "      \n",
              "  <style>\n",
              "    .colab-df-container {\n",
              "      display:flex;\n",
              "      flex-wrap:wrap;\n",
              "      gap: 12px;\n",
              "    }\n",
              "\n",
              "    .colab-df-convert {\n",
              "      background-color: #E8F0FE;\n",
              "      border: none;\n",
              "      border-radius: 50%;\n",
              "      cursor: pointer;\n",
              "      display: none;\n",
              "      fill: #1967D2;\n",
              "      height: 32px;\n",
              "      padding: 0 0 0 0;\n",
              "      width: 32px;\n",
              "    }\n",
              "\n",
              "    .colab-df-convert:hover {\n",
              "      background-color: #E2EBFA;\n",
              "      box-shadow: 0px 1px 2px rgba(60, 64, 67, 0.3), 0px 1px 3px 1px rgba(60, 64, 67, 0.15);\n",
              "      fill: #174EA6;\n",
              "    }\n",
              "\n",
              "    [theme=dark] .colab-df-convert {\n",
              "      background-color: #3B4455;\n",
              "      fill: #D2E3FC;\n",
              "    }\n",
              "\n",
              "    [theme=dark] .colab-df-convert:hover {\n",
              "      background-color: #434B5C;\n",
              "      box-shadow: 0px 1px 3px 1px rgba(0, 0, 0, 0.15);\n",
              "      filter: drop-shadow(0px 1px 2px rgba(0, 0, 0, 0.3));\n",
              "      fill: #FFFFFF;\n",
              "    }\n",
              "  </style>\n",
              "\n",
              "      <script>\n",
              "        const buttonEl =\n",
              "          document.querySelector('#df-8ef52884-8edf-425c-9b44-caa22e3f7020 button.colab-df-convert');\n",
              "        buttonEl.style.display =\n",
              "          google.colab.kernel.accessAllowed ? 'block' : 'none';\n",
              "\n",
              "        async function convertToInteractive(key) {\n",
              "          const element = document.querySelector('#df-8ef52884-8edf-425c-9b44-caa22e3f7020');\n",
              "          const dataTable =\n",
              "            await google.colab.kernel.invokeFunction('convertToInteractive',\n",
              "                                                     [key], {});\n",
              "          if (!dataTable) return;\n",
              "\n",
              "          const docLinkHtml = 'Like what you see? Visit the ' +\n",
              "            '<a target=\"_blank\" href=https://colab.research.google.com/notebooks/data_table.ipynb>data table notebook</a>'\n",
              "            + ' to learn more about interactive tables.';\n",
              "          element.innerHTML = '';\n",
              "          dataTable['output_type'] = 'display_data';\n",
              "          await google.colab.output.renderOutput(dataTable, element);\n",
              "          const docLink = document.createElement('div');\n",
              "          docLink.innerHTML = docLinkHtml;\n",
              "          element.appendChild(docLink);\n",
              "        }\n",
              "      </script>\n",
              "    </div>\n",
              "  </div>\n",
              "  "
            ]
          },
          "metadata": {},
          "execution_count": 106
        }
      ]
    },
    {
      "cell_type": "code",
      "source": [
        "plt.figure(figsize=(12, 7))\n",
        "plots = sns.barplot(x='Model', y='Loss', data=loss_result_table)\n",
        "for bar in plots.patches:\n",
        "    plots.annotate(format(bar.get_height(), '.2f'),\n",
        "                   (bar.get_x() + bar.get_width() / 2,\n",
        "                    bar.get_height()), ha='center', va='center',\n",
        "                   size=15, xytext=(0, 9),\n",
        "                   textcoords='offset points')\n",
        "\n",
        "plt.xlabel(\"Models\")\n",
        "plt.ylabel(\"Loss\")\n",
        "plt.xticks(rotation=20);"
      ],
      "metadata": {
        "id": "RWAzDPdHUOcT",
        "colab": {
          "base_uri": "https://localhost:8080/",
          "height": 469
        },
        "outputId": "da04e989-e835-4a37-9034-0ccb85c45b2f"
      },
      "execution_count": 102,
      "outputs": [
        {
          "output_type": "display_data",
          "data": {
            "text/plain": [
              "<Figure size 864x504 with 1 Axes>"
            ],
            "image/png": "[encoded data removed]"
          },
          "metadata": {
            "needs_background": "light"
          }
        }
      ]
    }
  ]
}